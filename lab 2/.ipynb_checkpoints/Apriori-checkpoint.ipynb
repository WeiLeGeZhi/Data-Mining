{
 "cells": [
  {
   "cell_type": "code",
   "execution_count": 1,
   "id": "fe7c3bb0",
   "metadata": {},
   "outputs": [],
   "source": [
    "import pandas as pd\n",
    "from mlxtend.frequent_patterns import apriori, association_rules"
   ]
  },
  {
   "cell_type": "code",
   "execution_count": 8,
   "id": "8558a847",
   "metadata": {},
   "outputs": [],
   "source": [
    "data = pd.read_excel('data/dataPreprocessed.xlsx')\n",
    "grouped = data.groupby('Invoice')\n",
    "unique_products = data['StockCode'].unique().tolist()\n",
    "product_index_dict = {product: index for index, product in enumerate(unique_products)}\n",
    "\n",
    "transaction_list = []\n",
    "\n",
    "for name, group in grouped:\n",
    "    transaction = [0] * len(unique_products)\n",
    "    for index, row in group.iterrows():\n",
    "        product_index = product_index_dict[row['StockCode']]\n",
    "        transaction[product_index] = 1\n",
    "    transaction_list.append(transaction)\n",
    "\n",
    "transaction_df = pd.DataFrame(transaction_list, columns=unique_products)"
   ]
  },
  {
   "cell_type": "code",
   "execution_count": 10,
   "id": "855ac4c3",
   "metadata": {},
   "outputs": [
    {
     "name": "stderr",
     "output_type": "stream",
     "text": [
      "C:\\Users\\HUAWEI\\anaconda3\\lib\\site-packages\\mlxtend\\frequent_patterns\\fpcommon.py:109: DeprecationWarning: DataFrames with non-bool types result in worse computationalperformance and their support might be discontinued in the future.Please use a DataFrame with bool type\n",
      "  warnings.warn(\n"
     ]
    },
    {
     "name": "stdout",
     "output_type": "stream",
     "text": [
      "   antecedents consequents  antecedent support  consequent support   support  \\\n",
      "10     (21733)    (85123A)            0.053127            0.161464  0.038589   \n",
      "11    (85123A)     (21733)            0.161464            0.053127  0.038589   \n",
      "0      (21232)     (21231)            0.071352            0.043185  0.033244   \n",
      "1      (21231)     (21232)            0.043185            0.071352  0.033244   \n",
      "21    (82494L)     (82482)            0.053928            0.043720  0.029610   \n",
      "\n",
      "    confidence       lift  leverage  conviction  zhangs_metric  \n",
      "10    0.726358   4.498564  0.030011    3.064354       0.821342  \n",
      "11    0.238994   4.498564  0.030011    1.244239       0.927458  \n",
      "0     0.465918  10.788760  0.030163    1.791511       0.977024  \n",
      "1     0.769802  10.788760  0.030163    4.034126       0.948262  \n",
      "21    0.549058  12.558538  0.027252    2.120630       0.972836  \n"
     ]
    }
   ],
   "source": [
    "frequent_itemsets = apriori(transaction_df, min_support=0.02, use_colnames=True)\n",
    "rules = association_rules(frequent_itemsets, metric='support', min_threshold=0.01)\n",
    "top_rules = rules.sort_values(by='support', ascending=False).head(5)\n",
    "print(top_rules)"
   ]
  },
  {
   "cell_type": "code",
   "execution_count": null,
   "id": "072fa930",
   "metadata": {},
   "outputs": [],
   "source": []
  }
 ],
 "metadata": {
  "kernelspec": {
   "display_name": "Python 3 (ipykernel)",
   "language": "python",
   "name": "python3"
  },
  "language_info": {
   "codemirror_mode": {
    "name": "ipython",
    "version": 3
   },
   "file_extension": ".py",
   "mimetype": "text/x-python",
   "name": "python",
   "nbconvert_exporter": "python",
   "pygments_lexer": "ipython3",
   "version": "3.10.9"
  }
 },
 "nbformat": 4,
 "nbformat_minor": 5
}
