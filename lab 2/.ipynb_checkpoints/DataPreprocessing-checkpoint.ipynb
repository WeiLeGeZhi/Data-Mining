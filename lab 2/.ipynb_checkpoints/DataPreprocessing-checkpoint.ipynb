{
 "cells": [
  {
   "cell_type": "code",
   "execution_count": 17,
   "id": "fe7c3bb0",
   "metadata": {},
   "outputs": [],
   "source": [
    "import pandas as pd\n",
    "from mlxtend.frequent_patterns import apriori, association_rules"
   ]
  },
  {
   "cell_type": "code",
   "execution_count": 2,
   "id": "878285f6",
   "metadata": {},
   "outputs": [
    {
     "name": "stdout",
     "output_type": "stream",
     "text": [
      "原始数据集大小： (525461, 8)\n",
      "每个属性的缺失值数量：\n",
      "Invoice             0\n",
      "StockCode           0\n",
      "Description      2928\n",
      "Quantity            0\n",
      "InvoiceDate         0\n",
      "Price               0\n",
      "Customer ID    107927\n",
      "Country             0\n",
      "dtype: int64\n",
      "丢弃缺失值后的数据集大小： (417534, 8)\n"
     ]
    }
   ],
   "source": [
    "raw_data = pd.read_excel('retail.xlsx')\n",
    "print(\"原始数据集大小：\", raw_data.shape)\n",
    "missing_values_count = raw_data.isnull().sum()\n",
    "print(\"每个属性的缺失值数量：\")\n",
    "print(missing_values_count)\n",
    "data_dropped_na = raw_data.dropna()\n",
    "print(\"丢弃缺失值后的数据集大小：\", data_dropped_na.shape)"
   ]
  },
  {
   "cell_type": "code",
   "execution_count": 3,
   "id": "9fe90253",
   "metadata": {},
   "outputs": [
    {
     "name": "stdout",
     "output_type": "stream",
     "text": [
      "(410763, 8)\n"
     ]
    }
   ],
   "source": [
    "data_dedupt = data_dropped_na.drop_duplicates()\n",
    "print(data_dedupt.shape)"
   ]
  },
  {
   "cell_type": "code",
   "execution_count": 4,
   "id": "4188fe3b",
   "metadata": {},
   "outputs": [
    {
     "name": "stdout",
     "output_type": "stream",
     "text": [
      "删除多种产品后的数据集大小： (322854, 8)\n"
     ]
    }
   ],
   "source": [
    "unique_desc_per_stock = data_dedupt.groupby('StockCode')['Description'].nunique()\n",
    "multi_product_stock_codes = unique_desc_per_stock[unique_desc_per_stock > 1].index.tolist()\n",
    "data_no_multi_product = data_dedupt[~data_dedupt['StockCode'].isin(multi_product_stock_codes)]\n",
    "print(\"删除多种产品后的数据集大小：\", data_no_multi_product.shape)"
   ]
  },
  {
   "cell_type": "code",
   "execution_count": 5,
   "id": "06388b7a",
   "metadata": {},
   "outputs": [
    {
     "name": "stderr",
     "output_type": "stream",
     "text": [
      "C:\\Users\\HUAWEI\\AppData\\Local\\Temp\\ipykernel_1432\\3805971389.py:1: SettingWithCopyWarning: \n",
      "A value is trying to be set on a copy of a slice from a DataFrame.\n",
      "Try using .loc[row_indexer,col_indexer] = value instead\n",
      "\n",
      "See the caveats in the documentation: https://pandas.pydata.org/pandas-docs/stable/user_guide/indexing.html#returning-a-view-versus-a-copy\n",
      "  data_no_multi_product['Invoice'] = data_no_multi_product['Invoice'].astype(str)\n",
      "C:\\Users\\HUAWEI\\AppData\\Local\\Temp\\ipykernel_1432\\3805971389.py:2: SettingWithCopyWarning: \n",
      "A value is trying to be set on a copy of a slice from a DataFrame.\n",
      "Try using .loc[row_indexer,col_indexer] = value instead\n",
      "\n",
      "See the caveats in the documentation: https://pandas.pydata.org/pandas-docs/stable/user_guide/indexing.html#returning-a-view-versus-a-copy\n",
      "  data_no_multi_product['StockCode'] = data_no_multi_product['StockCode'].astype(str)\n"
     ]
    }
   ],
   "source": [
    "data_no_multi_product['Invoice'] = data_no_multi_product['Invoice'].astype(str)\n",
    "data_no_multi_product['StockCode'] = data_no_multi_product['StockCode'].astype(str)\n",
    "data_dropped_cancelled = data_no_multi_product[data_no_multi_product['Invoice'].str.startswith('C') == False]\n",
    "data_dropped_post = data_dropped_cancelled[data_dropped_cancelled['StockCode'] != 'POST']"
   ]
  },
  {
   "cell_type": "code",
   "execution_count": 6,
   "id": "cb1f740c",
   "metadata": {},
   "outputs": [
    {
     "data": {
      "text/html": [
       "<div>\n",
       "<style scoped>\n",
       "    .dataframe tbody tr th:only-of-type {\n",
       "        vertical-align: middle;\n",
       "    }\n",
       "\n",
       "    .dataframe tbody tr th {\n",
       "        vertical-align: top;\n",
       "    }\n",
       "\n",
       "    .dataframe thead th {\n",
       "        text-align: right;\n",
       "    }\n",
       "</style>\n",
       "<table border=\"1\" class=\"dataframe\">\n",
       "  <thead>\n",
       "    <tr style=\"text-align: right;\">\n",
       "      <th></th>\n",
       "      <th>Invoice</th>\n",
       "      <th>StockCode</th>\n",
       "      <th>Description</th>\n",
       "      <th>Quantity</th>\n",
       "      <th>InvoiceDate</th>\n",
       "      <th>Price</th>\n",
       "      <th>Customer ID</th>\n",
       "      <th>Country</th>\n",
       "    </tr>\n",
       "  </thead>\n",
       "  <tbody>\n",
       "    <tr>\n",
       "      <th>0</th>\n",
       "      <td>489434</td>\n",
       "      <td>85048</td>\n",
       "      <td>15CM CHRISTMAS GLASS BALL 20 LIGHTS</td>\n",
       "      <td>12</td>\n",
       "      <td>2009-12-01 07:45:00</td>\n",
       "      <td>6.95</td>\n",
       "      <td>13085.0</td>\n",
       "      <td>United Kingdom</td>\n",
       "    </tr>\n",
       "    <tr>\n",
       "      <th>1</th>\n",
       "      <td>489434</td>\n",
       "      <td>79323P</td>\n",
       "      <td>PINK CHERRY LIGHTS</td>\n",
       "      <td>12</td>\n",
       "      <td>2009-12-01 07:45:00</td>\n",
       "      <td>6.75</td>\n",
       "      <td>13085.0</td>\n",
       "      <td>United Kingdom</td>\n",
       "    </tr>\n",
       "    <tr>\n",
       "      <th>3</th>\n",
       "      <td>489434</td>\n",
       "      <td>22041</td>\n",
       "      <td>RECORD FRAME 7\" SINGLE SIZE</td>\n",
       "      <td>48</td>\n",
       "      <td>2009-12-01 07:45:00</td>\n",
       "      <td>2.10</td>\n",
       "      <td>13085.0</td>\n",
       "      <td>United Kingdom</td>\n",
       "    </tr>\n",
       "    <tr>\n",
       "      <th>4</th>\n",
       "      <td>489434</td>\n",
       "      <td>21232</td>\n",
       "      <td>STRAWBERRY CERAMIC TRINKET BOX</td>\n",
       "      <td>24</td>\n",
       "      <td>2009-12-01 07:45:00</td>\n",
       "      <td>1.25</td>\n",
       "      <td>13085.0</td>\n",
       "      <td>United Kingdom</td>\n",
       "    </tr>\n",
       "    <tr>\n",
       "      <th>5</th>\n",
       "      <td>489434</td>\n",
       "      <td>22064</td>\n",
       "      <td>PINK DOUGHNUT TRINKET POT</td>\n",
       "      <td>24</td>\n",
       "      <td>2009-12-01 07:45:00</td>\n",
       "      <td>1.65</td>\n",
       "      <td>13085.0</td>\n",
       "      <td>United Kingdom</td>\n",
       "    </tr>\n",
       "  </tbody>\n",
       "</table>\n",
       "</div>"
      ],
      "text/plain": [
       "  Invoice StockCode                          Description  Quantity  \\\n",
       "0  489434     85048  15CM CHRISTMAS GLASS BALL 20 LIGHTS        12   \n",
       "1  489434    79323P                   PINK CHERRY LIGHTS        12   \n",
       "3  489434     22041         RECORD FRAME 7\" SINGLE SIZE         48   \n",
       "4  489434     21232       STRAWBERRY CERAMIC TRINKET BOX        24   \n",
       "5  489434     22064           PINK DOUGHNUT TRINKET POT         24   \n",
       "\n",
       "          InvoiceDate  Price  Customer ID         Country  \n",
       "0 2009-12-01 07:45:00   6.95      13085.0  United Kingdom  \n",
       "1 2009-12-01 07:45:00   6.75      13085.0  United Kingdom  \n",
       "3 2009-12-01 07:45:00   2.10      13085.0  United Kingdom  \n",
       "4 2009-12-01 07:45:00   1.25      13085.0  United Kingdom  \n",
       "5 2009-12-01 07:45:00   1.65      13085.0  United Kingdom  "
      ]
     },
     "execution_count": 6,
     "metadata": {},
     "output_type": "execute_result"
    }
   ],
   "source": [
    "data_dropped_post.head()"
   ]
  },
  {
   "cell_type": "code",
   "execution_count": 7,
   "id": "9432f963",
   "metadata": {},
   "outputs": [
    {
     "name": "stdout",
     "output_type": "stream",
     "text": [
      "(314342, 8)\n"
     ]
    }
   ],
   "source": [
    "print(data_dropped_post.shape)"
   ]
  },
  {
   "cell_type": "code",
   "execution_count": 11,
   "id": "8558a847",
   "metadata": {},
   "outputs": [],
   "source": [
    "# data_dropped_post.to_excel('dataPreprocessed.xlsx', index=False)\n",
    "grouped = data_dropped_post.groupby('Invoice')\n",
    "unique_products = data_dropped_post['StockCode'].unique().tolist()\n",
    "product_index_dict = {product: index for index, product in enumerate(unique_products)}\n",
    "\n",
    "transaction_list = []\n",
    "\n",
    "for name, group in grouped:\n",
    "    transaction = [0] * len(unique_products)\n",
    "    for index, row in group.iterrows():\n",
    "        product_index = product_index_dict[row['StockCode']]\n",
    "        transaction[product_index] = 1\n",
    "    transaction_list.append(transaction)\n",
    "\n",
    "transaction_df = pd.DataFrame(transaction_list, columns=unique_products)"
   ]
  },
  {
   "cell_type": "code",
   "execution_count": 22,
   "id": "51cbac7e",
   "metadata": {},
   "outputs": [],
   "source": [
    "del raw_data, missing_values_count, data_dropped_na, data_dedupt, unique_desc_per_stock, multi_product_stock_codes, data_no_multi_product, data_dropped_cancelled, data_dropped_post"
   ]
  },
  {
   "cell_type": "code",
   "execution_count": 28,
   "id": "855ac4c3",
   "metadata": {},
   "outputs": [
    {
     "name": "stderr",
     "output_type": "stream",
     "text": [
      "C:\\Users\\HUAWEI\\anaconda3\\lib\\site-packages\\mlxtend\\frequent_patterns\\fpcommon.py:109: DeprecationWarning: DataFrames with non-bool types result in worse computationalperformance and their support might be discontinued in the future.Please use a DataFrame with bool type\n",
      "  warnings.warn(\n"
     ]
    },
    {
     "name": "stdout",
     "output_type": "stream",
     "text": [
      "   antecedents consequents  antecedent support  consequent support   support  \\\n",
      "10    (85123A)     (21733)            0.161464            0.053127  0.038589   \n",
      "11     (21733)    (85123A)            0.053127            0.161464  0.038589   \n",
      "0      (21232)     (21231)            0.071352            0.043185  0.033244   \n",
      "1      (21231)     (21232)            0.043185            0.071352  0.033244   \n",
      "21     (82482)    (82494L)            0.043720            0.053928  0.029610   \n",
      "\n",
      "    confidence       lift  leverage  conviction  zhangs_metric  \n",
      "10    0.238994   4.498564  0.030011    1.244239       0.927458  \n",
      "11    0.726358   4.498564  0.030011    3.064354       0.821342  \n",
      "0     0.465918  10.788760  0.030163    1.791511       0.977024  \n",
      "1     0.769802  10.788760  0.030163    4.034126       0.948262  \n",
      "21    0.677262  12.558538  0.027252    2.931389       0.962451  \n"
     ]
    }
   ],
   "source": [
    "# transaction_df.head()\n",
    "frequent_itemsets = apriori(transaction_df, min_support=0.02, use_colnames=True)\n",
    "rules = association_rules(frequent_itemsets, metric='support', min_threshold=0.01)\n",
    "top_rules = rules.sort_values(by='support', ascending=False).head(5)\n",
    "print(top_rules)"
   ]
  },
  {
   "cell_type": "code",
   "execution_count": null,
   "id": "072fa930",
   "metadata": {},
   "outputs": [],
   "source": []
  }
 ],
 "metadata": {
  "kernelspec": {
   "display_name": "Python 3 (ipykernel)",
   "language": "python",
   "name": "python3"
  },
  "language_info": {
   "codemirror_mode": {
    "name": "ipython",
    "version": 3
   },
   "file_extension": ".py",
   "mimetype": "text/x-python",
   "name": "python",
   "nbconvert_exporter": "python",
   "pygments_lexer": "ipython3",
   "version": "3.10.9"
  }
 },
 "nbformat": 4,
 "nbformat_minor": 5
}
