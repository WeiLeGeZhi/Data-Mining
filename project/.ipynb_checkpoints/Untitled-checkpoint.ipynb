{
 "cells": [
  {
   "cell_type": "code",
   "execution_count": 1,
   "id": "f1d2846a",
   "metadata": {},
   "outputs": [],
   "source": [
    "import pandas as pd"
   ]
  },
  {
   "cell_type": "code",
   "execution_count": 2,
   "id": "53b9b8ed",
   "metadata": {},
   "outputs": [],
   "source": [
    "# 读取商户数据\n",
    "merchant_data = pd.read_csv('./data/商户数据/table_datamining_merchant.txt', delimiter=',')\n",
    "throwpoint_training_data = pd.read_csv('./data/抛出点数据/table_throwpoint_training.txt', delimiter=',')\n",
    "throwpoint_test_data = pd.read_csv('./data/抛出点数据/table_throwpoint_test.txt', delimiter=',')\n",
    "loss_transaction_training_data = pd.read_csv('./data/流水数据/table_loss_transaction_trainingdata.txt', delimiter=',')\n",
    "loss_transaction_test_data = pd.read_csv('./data/流水数据/table_loss_transaction_testdata.txt', delimiter=',')\n",
    "history_loan_data = pd.read_csv('./data/历史还款数据/table_datamining_history_loan.txt', delimiter=',')\n",
    "loan_train_data = pd.read_csv('./data/贷款数据/table_loan_train.txt', delimiter=',')\n",
    "loan_test_data = pd.read_csv('./data/贷款数据/table_loan_test.txt', delimiter=',')"
   ]
  },
  {
   "cell_type": "code",
   "execution_count": 3,
   "id": "9a048e02",
   "metadata": {},
   "outputs": [
    {
     "name": "stdout",
     "output_type": "stream",
     "text": [
      "merchant_id        0\n",
      "industry_level1    0\n",
      "province           0\n",
      "dtype: int64\n",
      "store_id    0\n",
      "pt          0\n",
      "dtype: int64\n",
      "store_id    0\n",
      "pt          0\n",
      "dtype: int64\n",
      "id                       0\n",
      "type                     0\n",
      "status                   0\n",
      "store_id                 0\n",
      "merchant_id              0\n",
      "pay_way                  0\n",
      "sub_pay_way              0\n",
      "paid_amount              0\n",
      "ctime                    0\n",
      "bankcard_credit          0\n",
      "bankcard_debit           0\n",
      "wallet_weixin            0\n",
      "wallet_alipay            0\n",
      "wallet_alipay_finance    0\n",
      "alipay_huabei            0\n",
      "alipay_point             0\n",
      "pt                       0\n",
      "dtype: int64\n",
      "id                       0\n",
      "type                     0\n",
      "status                   0\n",
      "store_id                 0\n",
      "merchant_id              0\n",
      "pay_way                  0\n",
      "sub_pay_way              0\n",
      "paid_amount              0\n",
      "ctime                    0\n",
      "bankcard_credit          0\n",
      "bankcard_debit           0\n",
      "wallet_weixin            0\n",
      "wallet_alipay            0\n",
      "wallet_alipay_finance    0\n",
      "alipay_huabei            0\n",
      "alipay_point             0\n",
      "pt                       0\n",
      "dtype: int64\n",
      "apply_id                0\n",
      "merchant_id             0\n",
      "apply_date              0\n",
      "lend_amount             0\n",
      "lend_period             0\n",
      "notional_settle_date    0\n",
      "real_settle_date        0\n",
      "is_30days_overdue       0\n",
      "dtype: int64\n",
      "apply_id             0\n",
      "merchant_id          0\n",
      "apply_date           0\n",
      "lend_amount          0\n",
      "lend_period          0\n",
      "is_30days_overdue    0\n",
      "dtype: int64\n",
      "apply_id       0\n",
      "merchant_id    0\n",
      "apply_date     0\n",
      "lend_amount    0\n",
      "lend_period    0\n",
      "dtype: int64\n"
     ]
    }
   ],
   "source": [
    "# 检查是否有缺失值\n",
    "merchant_data_miss = merchant_data.isnull().sum()\n",
    "throwpoint_training_data_miss = throwpoint_training_data.isnull().sum()\n",
    "throwpoint_test_data_miss = throwpoint_test_data.isnull().sum()\n",
    "loss_transaction_training_data_miss = loss_transaction_training_data.isnull().sum()\n",
    "loss_transaction_test_data_miss = loss_transaction_test_data.isnull().sum()\n",
    "history_loan_data_miss = history_loan_data.isnull().sum()\n",
    "loan_train_data_miss = loan_train_data.isnull().sum()\n",
    "loan_test_data_miss = loan_test_data.isnull().sum()\n",
    "\n",
    "print(merchant_data_miss)\n",
    "print(throwpoint_training_data_miss)\n",
    "print(throwpoint_test_data_miss)\n",
    "print(loss_transaction_training_data_miss)\n",
    "print(loss_transaction_test_data_miss)\n",
    "print(history_loan_data_miss)\n",
    "print(loan_train_data_miss)\n",
    "print(loan_test_data_miss)"
   ]
  },
  {
   "cell_type": "code",
   "execution_count": 4,
   "id": "46a83a0e",
   "metadata": {},
   "outputs": [
    {
     "name": "stdout",
     "output_type": "stream",
     "text": [
      "row data size:\n",
      "5599\n",
      "6733\n",
      "6815\n",
      "2309665\n",
      "2404994\n",
      "353\n",
      "1200\n",
      "515\n",
      "data size after dedup:\n",
      "5599\n",
      "6733\n",
      "6815\n",
      "2309065\n",
      "2404388\n",
      "353\n",
      "1200\n",
      "515\n"
     ]
    }
   ],
   "source": [
    "# 在每张表中删除完全重复的数据\n",
    "print(\"row data size:\")\n",
    "print(merchant_data.shape[0])\n",
    "print(throwpoint_training_data.shape[0])\n",
    "print(throwpoint_test_data.shape[0])\n",
    "print(loss_transaction_training_data.shape[0])\n",
    "print(loss_transaction_test_data.shape[0])\n",
    "print(history_loan_data.shape[0])\n",
    "print(loan_train_data.shape[0])\n",
    "print(loan_test_data.shape[0])\n",
    "\n",
    "merchant_data_nodup = merchant_data.drop_duplicates()\n",
    "throwpoint_training_data_nodup = throwpoint_training_data.drop_duplicates()\n",
    "throwpoint_test_data_nodup = throwpoint_test_data.drop_duplicates()\n",
    "loss_transaction_training_data_nodup = loss_transaction_training_data.drop_duplicates()\n",
    "loss_transaction_test_data_nodup = loss_transaction_test_data.drop_duplicates()\n",
    "history_loan_data_nodup = history_loan_data.drop_duplicates()\n",
    "loan_train_data_nodup = loan_train_data.drop_duplicates()\n",
    "loan_test_data_nodup = loan_test_data.drop_duplicates()\n",
    "\n",
    "print(\"data size after dedup:\")\n",
    "print(merchant_data_nodup.shape[0])\n",
    "print(throwpoint_training_data_nodup.shape[0])\n",
    "print(throwpoint_test_data_nodup.shape[0])\n",
    "print(loss_transaction_training_data_nodup.shape[0])\n",
    "print(loss_transaction_test_data_nodup.shape[0])\n",
    "print(history_loan_data_nodup.shape[0])\n",
    "print(loan_train_data_nodup.shape[0])\n",
    "print(loan_test_data_nodup.shape[0])"
   ]
  },
  {
   "cell_type": "code",
   "execution_count": 5,
   "id": "72db958c",
   "metadata": {},
   "outputs": [
    {
     "name": "stderr",
     "output_type": "stream",
     "text": [
      "\n",
      "KeyboardInterrupt\n",
      "\n"
     ]
    }
   ],
   "source": [
    "for index, row in loss_transaction_training_data_nodup.iterrows():\n",
    "    # 如果type列为10且至少有一列不为0，打印该条数据\n",
    "    if row['type'] == 10 & any(row[['paid_amount', 'bankcard_credit', 'bankcard_debit', 'wallet_weixin', 'wallet_alipay', 'wallet_alipay_finance', 'alipay_huabei', 'alipay_point']] != 0):\n",
    "        print(row)"
   ]
  },
  {
   "cell_type": "code",
   "execution_count": null,
   "id": "3a8b0952",
   "metadata": {},
   "outputs": [],
   "source": []
  }
 ],
 "metadata": {
  "kernelspec": {
   "display_name": "Python 3 (ipykernel)",
   "language": "python",
   "name": "python3"
  },
  "language_info": {
   "codemirror_mode": {
    "name": "ipython",
    "version": 3
   },
   "file_extension": ".py",
   "mimetype": "text/x-python",
   "name": "python",
   "nbconvert_exporter": "python",
   "pygments_lexer": "ipython3",
   "version": "3.10.9"
  }
 },
 "nbformat": 4,
 "nbformat_minor": 5
}
